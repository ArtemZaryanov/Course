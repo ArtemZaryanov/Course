{
 "cells": [
  {
   "cell_type": "code",
   "execution_count": 1,
   "metadata": {},
   "outputs": [],
   "source": [
    "import numpy as np\n",
    "import matplotlib.pyplot as plt\n",
    "import matplotlib.patches as mpatches\n",
    "import pandas as pd\n",
    "import cv2\n",
    "import os\n",
    "from CameraProcessing import CameraDataProccesing\n",
    "from CameraProcessing import LidarDataProccesing\n",
    "from CameraProcessing import PinholeCamera"
   ]
  },
  {
   "cell_type": "code",
   "execution_count": null,
   "metadata": {},
   "outputs": [],
   "source": []
  },
  {
   "cell_type": "code",
   "execution_count": 2,
   "metadata": {},
   "outputs": [],
   "source": [
    "#2021-15-04-14-05-09\n",
    "date = \"2021-15-04-14-25-17\" #\"2021-08-03-19-10-29\""
   ]
  },
  {
   "cell_type": "code",
   "execution_count": 3,
   "metadata": {},
   "outputs": [],
   "source": [
    "\n",
    "path_lidar_data = f\"D:/Users/user/PycharmProjects/Course/record_data/lidar_record/{date}/\"\n",
    "path_lidar_orientation_data = f\"D:/Users/user/PycharmProjects/Course/record_data/lidar_record/{date}/lidar_record.txt\"\n",
    "path_image_data = f\"D:/Users/user/PycharmProjects/Course/record_data/image_record/{date}/\"\n",
    "path_word_data = \"D:/Users/user/PycharmProjects/Course/world.dat\"\n",
    "path_chess_board = \"D:/Users/user/PycharmProjects/Course/chess_board_images_2/\"\n",
    "path_chess_board_pos = \"D:/Users/user/PycharmProjects/Course/ChessBoard_pos.dat\"\n"
   ]
  },
  {
   "cell_type": "code",
   "execution_count": 4,
   "metadata": {},
   "outputs": [],
   "source": [
    "# Можно map использовать \n",
    "def null_transform(image):\n",
    "    # image = cv2.resize(image,(256,144),interpolation=cv2.INTER_AREA)\n",
    "    image = cv2.normalize(image,None, alpha=0, beta=1, norm_type=cv2.NORM_MINMAX, dtype=cv2.CV_32F)\n",
    "    #image = image[100:,:]\n",
    "    return image\n",
    "def read_image(image_name):\n",
    "    image = cv2.imread(path_images + image_name)\n",
    "    images.append(image)\n",
    "def read_images(path_images,list_image):\n",
    "    images = []\n",
    "    for image_name in list_image:\n",
    "        image = cv2.imread(os.path.join(path_images,image_name))\n",
    "        image = null_transform(image)\n",
    "        images.append(image)\n",
    "    return images\n"
   ]
  },
  {
   "cell_type": "code",
   "execution_count": 5,
   "metadata": {},
   "outputs": [],
   "source": [
    "lidar_data = []\n",
    "for name in os.listdir(path_lidar_data + \"data\"):\n",
    "    with open(path_lidar_data + \"data\" +\"/\" + name, 'rb') as f:\n",
    "        lidar_data.append(np.load(f).T)    "
   ]
  },
  {
   "cell_type": "code",
   "execution_count": 6,
   "metadata": {},
   "outputs": [],
   "source": [
    "position_lidar = pd.read_table(path_lidar_orientation_data,delimiter=\" \",dtype=np.float64)"
   ]
  },
  {
   "cell_type": "code",
   "execution_count": 7,
   "metadata": {},
   "outputs": [
    {
     "data": {
      "text/html": [
       "<div>\n",
       "<style scoped>\n",
       "    .dataframe tbody tr th:only-of-type {\n",
       "        vertical-align: middle;\n",
       "    }\n",
       "\n",
       "    .dataframe tbody tr th {\n",
       "        vertical-align: top;\n",
       "    }\n",
       "\n",
       "    .dataframe thead th {\n",
       "        text-align: right;\n",
       "    }\n",
       "</style>\n",
       "<table border=\"1\" class=\"dataframe\">\n",
       "  <thead>\n",
       "    <tr style=\"text-align: right;\">\n",
       "      <th></th>\n",
       "      <th>X</th>\n",
       "      <th>Y</th>\n",
       "      <th>Z</th>\n",
       "      <th>Roll</th>\n",
       "      <th>Pitch</th>\n",
       "      <th>Yaw</th>\n",
       "      <th>TimeStamp</th>\n",
       "    </tr>\n",
       "  </thead>\n",
       "  <tbody>\n",
       "    <tr>\n",
       "      <th>0</th>\n",
       "      <td>0.136412</td>\n",
       "      <td>96.496140</td>\n",
       "      <td>-0.690974</td>\n",
       "      <td>-0.002147</td>\n",
       "      <td>0.000060</td>\n",
       "      <td>-0.000493</td>\n",
       "      <td>1.618486e+18</td>\n",
       "    </tr>\n",
       "    <tr>\n",
       "      <th>1</th>\n",
       "      <td>0.322504</td>\n",
       "      <td>96.495621</td>\n",
       "      <td>-0.686443</td>\n",
       "      <td>0.000210</td>\n",
       "      <td>0.000064</td>\n",
       "      <td>-0.000478</td>\n",
       "      <td>1.618486e+18</td>\n",
       "    </tr>\n",
       "    <tr>\n",
       "      <th>2</th>\n",
       "      <td>0.574381</td>\n",
       "      <td>96.494904</td>\n",
       "      <td>-0.684653</td>\n",
       "      <td>0.001731</td>\n",
       "      <td>-0.000326</td>\n",
       "      <td>0.000304</td>\n",
       "      <td>1.618486e+18</td>\n",
       "    </tr>\n",
       "    <tr>\n",
       "      <th>3</th>\n",
       "      <td>1.849827</td>\n",
       "      <td>96.494263</td>\n",
       "      <td>-0.683984</td>\n",
       "      <td>0.001267</td>\n",
       "      <td>0.000047</td>\n",
       "      <td>-0.004916</td>\n",
       "      <td>1.618486e+17</td>\n",
       "    </tr>\n",
       "    <tr>\n",
       "      <th>4</th>\n",
       "      <td>4.164442</td>\n",
       "      <td>96.168991</td>\n",
       "      <td>-0.684743</td>\n",
       "      <td>0.000804</td>\n",
       "      <td>0.000109</td>\n",
       "      <td>-0.123193</td>\n",
       "      <td>1.618486e+18</td>\n",
       "    </tr>\n",
       "    <tr>\n",
       "      <th>...</th>\n",
       "      <td>...</td>\n",
       "      <td>...</td>\n",
       "      <td>...</td>\n",
       "      <td>...</td>\n",
       "      <td>...</td>\n",
       "      <td>...</td>\n",
       "      <td>...</td>\n",
       "    </tr>\n",
       "    <tr>\n",
       "      <th>79</th>\n",
       "      <td>-73.654869</td>\n",
       "      <td>-62.800461</td>\n",
       "      <td>-0.689279</td>\n",
       "      <td>-0.002202</td>\n",
       "      <td>0.000053</td>\n",
       "      <td>2.282806</td>\n",
       "      <td>1.618486e+17</td>\n",
       "    </tr>\n",
       "    <tr>\n",
       "      <th>80</th>\n",
       "      <td>-78.933281</td>\n",
       "      <td>-56.224037</td>\n",
       "      <td>-0.686915</td>\n",
       "      <td>0.000110</td>\n",
       "      <td>-0.000167</td>\n",
       "      <td>2.225385</td>\n",
       "      <td>1.618486e+18</td>\n",
       "    </tr>\n",
       "    <tr>\n",
       "      <th>81</th>\n",
       "      <td>-84.038857</td>\n",
       "      <td>-49.222782</td>\n",
       "      <td>-0.685085</td>\n",
       "      <td>0.000234</td>\n",
       "      <td>-0.000324</td>\n",
       "      <td>2.166225</td>\n",
       "      <td>1.618486e+17</td>\n",
       "    </tr>\n",
       "    <tr>\n",
       "      <th>82</th>\n",
       "      <td>-88.940399</td>\n",
       "      <td>-42.007561</td>\n",
       "      <td>-0.688198</td>\n",
       "      <td>-0.001956</td>\n",
       "      <td>0.000058</td>\n",
       "      <td>2.186534</td>\n",
       "      <td>1.618486e+18</td>\n",
       "    </tr>\n",
       "    <tr>\n",
       "      <th>83</th>\n",
       "      <td>-93.274513</td>\n",
       "      <td>-36.025597</td>\n",
       "      <td>-0.689121</td>\n",
       "      <td>-0.002545</td>\n",
       "      <td>0.000060</td>\n",
       "      <td>2.212545</td>\n",
       "      <td>1.618486e+17</td>\n",
       "    </tr>\n",
       "  </tbody>\n",
       "</table>\n",
       "<p>84 rows × 7 columns</p>\n",
       "</div>"
      ],
      "text/plain": [
       "            X          Y         Z      Roll     Pitch       Yaw     TimeStamp\n",
       "0    0.136412  96.496140 -0.690974 -0.002147  0.000060 -0.000493  1.618486e+18\n",
       "1    0.322504  96.495621 -0.686443  0.000210  0.000064 -0.000478  1.618486e+18\n",
       "2    0.574381  96.494904 -0.684653  0.001731 -0.000326  0.000304  1.618486e+18\n",
       "3    1.849827  96.494263 -0.683984  0.001267  0.000047 -0.004916  1.618486e+17\n",
       "4    4.164442  96.168991 -0.684743  0.000804  0.000109 -0.123193  1.618486e+18\n",
       "..        ...        ...       ...       ...       ...       ...           ...\n",
       "79 -73.654869 -62.800461 -0.689279 -0.002202  0.000053  2.282806  1.618486e+17\n",
       "80 -78.933281 -56.224037 -0.686915  0.000110 -0.000167  2.225385  1.618486e+18\n",
       "81 -84.038857 -49.222782 -0.685085  0.000234 -0.000324  2.166225  1.618486e+17\n",
       "82 -88.940399 -42.007561 -0.688198 -0.001956  0.000058  2.186534  1.618486e+18\n",
       "83 -93.274513 -36.025597 -0.689121 -0.002545  0.000060  2.212545  1.618486e+17\n",
       "\n",
       "[84 rows x 7 columns]"
      ]
     },
     "execution_count": 7,
     "metadata": {},
     "output_type": "execute_result"
    }
   ],
   "source": [
    "position_lidar "
   ]
  },
  {
   "cell_type": "code",
   "execution_count": 8,
   "metadata": {},
   "outputs": [
    {
     "data": {
      "text/plain": [
       "(84, 1080, 1920, 3)"
      ]
     },
     "execution_count": 8,
     "metadata": {},
     "output_type": "execute_result"
    }
   ],
   "source": [
    "list_images = []\n",
    "buf = os.path.join(path_image_data+ \"data\")\n",
    "list_images.append(np.array(read_images(buf ,os.listdir(buf))))\n",
    "images = np.concatenate(list_images,axis=0)    \n",
    "images.shape"
   ]
  },
  {
   "cell_type": "code",
   "execution_count": 9,
   "metadata": {},
   "outputs": [
    {
     "data": {
      "text/plain": [
       "(25, 1080, 1920, 3)"
      ]
     },
     "execution_count": 9,
     "metadata": {},
     "output_type": "execute_result"
    }
   ],
   "source": [
    "list_chess_images = []\n",
    "buf = path_chess_board\n",
    "list_chess_images.append(np.array(read_images(buf ,os.listdir(buf))))\n",
    "list_chess_images = np.concatenate(list_chess_images,axis=0)\n",
    "list_chess_images =(list_chess_images[:,:,:,]*255).astype(np.uint8)\n",
    "list_chess_images.shape"
   ]
  },
  {
   "cell_type": "code",
   "execution_count": 10,
   "metadata": {},
   "outputs": [
    {
     "data": {
      "text/plain": [
       "<matplotlib.image.AxesImage at 0x1d8a01e4848>"
      ]
     },
     "execution_count": 10,
     "metadata": {},
     "output_type": "execute_result"
    },
    {
     "data": {
      "image/png": "[encoded data removed]",
      "text/plain": [
       "<Figure size 432x288 with 1 Axes>"
      ]
     },
     "metadata": {
      "needs_background": "light"
     },
     "output_type": "display_data"
    }
   ],
   "source": [
    "plt.imshow(list_chess_images[6])\n",
    "# Попробовать с картинокй под углом или под 90 градусов или взять картинки из гайда "
   ]
  },
  {
   "cell_type": "code",
   "execution_count": 11,
   "metadata": {},
   "outputs": [],
   "source": [
    "world_data = pd.read_table(path_word_data,delimiter=\" \",header=0, index_col=False,names = [\"i\",\"X\",\"Y\",\"type\"],\n",
    "              dtype={\"i\": np.int64, 'X': np.float32, \"Y\": np.float32,\"orientation\":np.str_})"
   ]
  },
  {
   "cell_type": "code",
   "execution_count": 12,
   "metadata": {},
   "outputs": [
    {
     "data": {
      "text/plain": [
       "<matplotlib.collections.PathCollection at 0x1d8a08fff08>"
      ]
     },
     "execution_count": 12,
     "metadata": {},
     "output_type": "execute_result"
    },
    {
     "data": {
      "image/png": "[encoded data removed]",
      "text/plain": [
       "<Figure size 432x288 with 1 Axes>"
      ]
     },
     "metadata": {
      "needs_background": "light"
     },
     "output_type": "display_data"
    }
   ],
   "source": [
    "plt.plot(world_data.X,world_data.Y,'o',c=\"green\")\n",
    "plt.scatter(position_lidar.X,position_lidar.Y,c=\"red\")\n"
   ]
  },
  {
   "cell_type": "code",
   "execution_count": 13,
   "metadata": {},
   "outputs": [
    {
     "data": {
      "text/html": [
       "<div>\n",
       "<style scoped>\n",
       "    .dataframe tbody tr th:only-of-type {\n",
       "        vertical-align: middle;\n",
       "    }\n",
       "\n",
       "    .dataframe tbody tr th {\n",
       "        vertical-align: top;\n",
       "    }\n",
       "\n",
       "    .dataframe thead th {\n",
       "        text-align: right;\n",
       "    }\n",
       "</style>\n",
       "<table border=\"1\" class=\"dataframe\">\n",
       "  <thead>\n",
       "    <tr style=\"text-align: right;\">\n",
       "      <th></th>\n",
       "      <th>i</th>\n",
       "      <th>X</th>\n",
       "      <th>Y</th>\n",
       "      <th>type</th>\n",
       "    </tr>\n",
       "  </thead>\n",
       "  <tbody>\n",
       "    <tr>\n",
       "      <th>0</th>\n",
       "      <td>1</td>\n",
       "      <td>-8.334544</td>\n",
       "      <td>-92.763046</td>\n",
       "      <td>left</td>\n",
       "    </tr>\n",
       "    <tr>\n",
       "      <th>1</th>\n",
       "      <td>2</td>\n",
       "      <td>-14.935279</td>\n",
       "      <td>-92.053398</td>\n",
       "      <td>left</td>\n",
       "    </tr>\n",
       "    <tr>\n",
       "      <th>2</th>\n",
       "      <td>3</td>\n",
       "      <td>-21.468571</td>\n",
       "      <td>-90.874657</td>\n",
       "      <td>left</td>\n",
       "    </tr>\n",
       "    <tr>\n",
       "      <th>3</th>\n",
       "      <td>4</td>\n",
       "      <td>-27.901127</td>\n",
       "      <td>-89.232841</td>\n",
       "      <td>left</td>\n",
       "    </tr>\n",
       "    <tr>\n",
       "      <th>4</th>\n",
       "      <td>5</td>\n",
       "      <td>-34.200169</td>\n",
       "      <td>-87.136330</td>\n",
       "      <td>left</td>\n",
       "    </tr>\n",
       "    <tr>\n",
       "      <th>...</th>\n",
       "      <td>...</td>\n",
       "      <td>...</td>\n",
       "      <td>...</td>\n",
       "      <td>...</td>\n",
       "    </tr>\n",
       "    <tr>\n",
       "      <th>144</th>\n",
       "      <td>145</td>\n",
       "      <td>24.501127</td>\n",
       "      <td>-89.232841</td>\n",
       "      <td>left</td>\n",
       "    </tr>\n",
       "    <tr>\n",
       "      <th>145</th>\n",
       "      <td>146</td>\n",
       "      <td>18.068571</td>\n",
       "      <td>-90.874657</td>\n",
       "      <td>left</td>\n",
       "    </tr>\n",
       "    <tr>\n",
       "      <th>146</th>\n",
       "      <td>147</td>\n",
       "      <td>11.535279</td>\n",
       "      <td>-92.053398</td>\n",
       "      <td>left</td>\n",
       "    </tr>\n",
       "    <tr>\n",
       "      <th>147</th>\n",
       "      <td>148</td>\n",
       "      <td>4.934544</td>\n",
       "      <td>-92.763046</td>\n",
       "      <td>left</td>\n",
       "    </tr>\n",
       "    <tr>\n",
       "      <th>148</th>\n",
       "      <td>149</td>\n",
       "      <td>-1.700000</td>\n",
       "      <td>-93.000000</td>\n",
       "      <td>left</td>\n",
       "    </tr>\n",
       "  </tbody>\n",
       "</table>\n",
       "<p>149 rows × 4 columns</p>\n",
       "</div>"
      ],
      "text/plain": [
       "       i          X          Y  type\n",
       "0      1  -8.334544 -92.763046  left\n",
       "1      2 -14.935279 -92.053398  left\n",
       "2      3 -21.468571 -90.874657  left\n",
       "3      4 -27.901127 -89.232841  left\n",
       "4      5 -34.200169 -87.136330  left\n",
       "..   ...        ...        ...   ...\n",
       "144  145  24.501127 -89.232841  left\n",
       "145  146  18.068571 -90.874657  left\n",
       "146  147  11.535279 -92.053398  left\n",
       "147  148   4.934544 -92.763046  left\n",
       "148  149  -1.700000 -93.000000  left\n",
       "\n",
       "[149 rows x 4 columns]"
      ]
     },
     "execution_count": 13,
     "metadata": {},
     "output_type": "execute_result"
    }
   ],
   "source": [
    "world_data.query(\"type=='left'\")"
   ]
  },
  {
   "cell_type": "code",
   "execution_count": null,
   "metadata": {},
   "outputs": [],
   "source": []
  },
  {
   "cell_type": "code",
   "execution_count": 14,
   "metadata": {},
   "outputs": [
    {
     "data": {
      "text/html": [
       "<div>\n",
       "<style scoped>\n",
       "    .dataframe tbody tr th:only-of-type {\n",
       "        vertical-align: middle;\n",
       "    }\n",
       "\n",
       "    .dataframe tbody tr th {\n",
       "        vertical-align: top;\n",
       "    }\n",
       "\n",
       "    .dataframe thead th {\n",
       "        text-align: right;\n",
       "    }\n",
       "</style>\n",
       "<table border=\"1\" class=\"dataframe\">\n",
       "  <thead>\n",
       "    <tr style=\"text-align: right;\">\n",
       "      <th></th>\n",
       "      <th>X</th>\n",
       "      <th>Y</th>\n",
       "      <th>Z</th>\n",
       "    </tr>\n",
       "  </thead>\n",
       "  <tbody>\n",
       "    <tr>\n",
       "      <th>0</th>\n",
       "      <td>4.7</td>\n",
       "      <td>0.762830</td>\n",
       "      <td>-0.902168</td>\n",
       "    </tr>\n",
       "    <tr>\n",
       "      <th>1</th>\n",
       "      <td>4.7</td>\n",
       "      <td>0.383446</td>\n",
       "      <td>-0.902168</td>\n",
       "    </tr>\n",
       "    <tr>\n",
       "      <th>2</th>\n",
       "      <td>4.7</td>\n",
       "      <td>0.036885</td>\n",
       "      <td>-0.902168</td>\n",
       "    </tr>\n",
       "    <tr>\n",
       "      <th>3</th>\n",
       "      <td>4.7</td>\n",
       "      <td>0.250778</td>\n",
       "      <td>-0.902168</td>\n",
       "    </tr>\n",
       "    <tr>\n",
       "      <th>4</th>\n",
       "      <td>4.7</td>\n",
       "      <td>0.949254</td>\n",
       "      <td>-0.902168</td>\n",
       "    </tr>\n",
       "    <tr>\n",
       "      <th>5</th>\n",
       "      <td>4.7</td>\n",
       "      <td>0.762830</td>\n",
       "      <td>-0.630793</td>\n",
       "    </tr>\n",
       "    <tr>\n",
       "      <th>6</th>\n",
       "      <td>4.7</td>\n",
       "      <td>0.383446</td>\n",
       "      <td>-0.630793</td>\n",
       "    </tr>\n",
       "    <tr>\n",
       "      <th>7</th>\n",
       "      <td>4.7</td>\n",
       "      <td>0.036885</td>\n",
       "      <td>-0.630793</td>\n",
       "    </tr>\n",
       "    <tr>\n",
       "      <th>8</th>\n",
       "      <td>4.7</td>\n",
       "      <td>0.250778</td>\n",
       "      <td>-0.630793</td>\n",
       "    </tr>\n",
       "    <tr>\n",
       "      <th>9</th>\n",
       "      <td>4.7</td>\n",
       "      <td>0.949254</td>\n",
       "      <td>-0.630793</td>\n",
       "    </tr>\n",
       "    <tr>\n",
       "      <th>10</th>\n",
       "      <td>4.7</td>\n",
       "      <td>0.762830</td>\n",
       "      <td>-0.784605</td>\n",
       "    </tr>\n",
       "    <tr>\n",
       "      <th>11</th>\n",
       "      <td>4.7</td>\n",
       "      <td>0.383446</td>\n",
       "      <td>-0.784605</td>\n",
       "    </tr>\n",
       "    <tr>\n",
       "      <th>12</th>\n",
       "      <td>4.7</td>\n",
       "      <td>0.036885</td>\n",
       "      <td>-0.784605</td>\n",
       "    </tr>\n",
       "    <tr>\n",
       "      <th>13</th>\n",
       "      <td>4.7</td>\n",
       "      <td>0.250778</td>\n",
       "      <td>-0.784605</td>\n",
       "    </tr>\n",
       "    <tr>\n",
       "      <th>14</th>\n",
       "      <td>4.7</td>\n",
       "      <td>0.949254</td>\n",
       "      <td>-0.784605</td>\n",
       "    </tr>\n",
       "    <tr>\n",
       "      <th>15</th>\n",
       "      <td>4.7</td>\n",
       "      <td>0.762830</td>\n",
       "      <td>-1.112250</td>\n",
       "    </tr>\n",
       "    <tr>\n",
       "      <th>16</th>\n",
       "      <td>4.7</td>\n",
       "      <td>0.383446</td>\n",
       "      <td>-1.112250</td>\n",
       "    </tr>\n",
       "    <tr>\n",
       "      <th>17</th>\n",
       "      <td>4.7</td>\n",
       "      <td>0.036885</td>\n",
       "      <td>-1.112250</td>\n",
       "    </tr>\n",
       "    <tr>\n",
       "      <th>18</th>\n",
       "      <td>4.7</td>\n",
       "      <td>0.250778</td>\n",
       "      <td>-1.112250</td>\n",
       "    </tr>\n",
       "    <tr>\n",
       "      <th>19</th>\n",
       "      <td>4.7</td>\n",
       "      <td>0.949254</td>\n",
       "      <td>-1.112250</td>\n",
       "    </tr>\n",
       "    <tr>\n",
       "      <th>20</th>\n",
       "      <td>4.7</td>\n",
       "      <td>0.762830</td>\n",
       "      <td>-0.681831</td>\n",
       "    </tr>\n",
       "    <tr>\n",
       "      <th>21</th>\n",
       "      <td>4.7</td>\n",
       "      <td>0.383446</td>\n",
       "      <td>-0.681831</td>\n",
       "    </tr>\n",
       "    <tr>\n",
       "      <th>22</th>\n",
       "      <td>4.7</td>\n",
       "      <td>0.036885</td>\n",
       "      <td>-0.681831</td>\n",
       "    </tr>\n",
       "    <tr>\n",
       "      <th>23</th>\n",
       "      <td>4.7</td>\n",
       "      <td>0.250778</td>\n",
       "      <td>-0.681831</td>\n",
       "    </tr>\n",
       "    <tr>\n",
       "      <th>24</th>\n",
       "      <td>4.7</td>\n",
       "      <td>0.949254</td>\n",
       "      <td>-0.681831</td>\n",
       "    </tr>\n",
       "  </tbody>\n",
       "</table>\n",
       "</div>"
      ],
      "text/plain": [
       "      X         Y         Z\n",
       "0   4.7  0.762830 -0.902168\n",
       "1   4.7  0.383446 -0.902168\n",
       "2   4.7  0.036885 -0.902168\n",
       "3   4.7  0.250778 -0.902168\n",
       "4   4.7  0.949254 -0.902168\n",
       "5   4.7  0.762830 -0.630793\n",
       "6   4.7  0.383446 -0.630793\n",
       "7   4.7  0.036885 -0.630793\n",
       "8   4.7  0.250778 -0.630793\n",
       "9   4.7  0.949254 -0.630793\n",
       "10  4.7  0.762830 -0.784605\n",
       "11  4.7  0.383446 -0.784605\n",
       "12  4.7  0.036885 -0.784605\n",
       "13  4.7  0.250778 -0.784605\n",
       "14  4.7  0.949254 -0.784605\n",
       "15  4.7  0.762830 -1.112250\n",
       "16  4.7  0.383446 -1.112250\n",
       "17  4.7  0.036885 -1.112250\n",
       "18  4.7  0.250778 -1.112250\n",
       "19  4.7  0.949254 -1.112250\n",
       "20  4.7  0.762830 -0.681831\n",
       "21  4.7  0.383446 -0.681831\n",
       "22  4.7  0.036885 -0.681831\n",
       "23  4.7  0.250778 -0.681831\n",
       "24  4.7  0.949254 -0.681831"
      ]
     },
     "execution_count": 14,
     "metadata": {},
     "output_type": "execute_result"
    }
   ],
   "source": [
    "chess_board_positions = pd.read_table(path_chess_board_pos,delimiter=\" \",header=0, index_col=False,names = [\"X\",\"Y\",\"Z\"],\n",
    "              dtype={'X': np.float32, \"Y\": np.float32,'Z': np.float32})\n",
    "chess_board_positions"
   ]
  },
  {
   "cell_type": "code",
   "execution_count": 15,
   "metadata": {},
   "outputs": [
    {
     "data": {
      "text/plain": [
       "25"
      ]
     },
     "execution_count": 15,
     "metadata": {},
     "output_type": "execute_result"
    }
   ],
   "source": [
    "chess_board_positions.shape[0]"
   ]
  },
  {
   "cell_type": "code",
   "execution_count": 200,
   "metadata": {},
   "outputs": [],
   "source": [
    "assert chess_board_positions.shape[0]==len(list_chess_images),\"Size not equal\""
   ]
  },
  {
   "cell_type": "code",
   "execution_count": 201,
   "metadata": {},
   "outputs": [
    {
     "data": {
      "text/plain": [
       "<matplotlib.collections.PathCollection at 0x2dc94dc6b88>"
      ]
     },
     "execution_count": 201,
     "metadata": {},
     "output_type": "execute_result"
    },
    {
     "data": {
      "image/png": "[encoded data removed]",
      "text/plain": [
       "<Figure size 432x288 with 1 Axes>"
      ]
     },
     "metadata": {
      "needs_background": "light"
     },
     "output_type": "display_data"
    }
   ],
   "source": [
    "plt.scatter(chess_board_positions.X,chess_board_positions.Z)"
   ]
  },
  {
   "cell_type": "code",
   "execution_count": 202,
   "metadata": {},
   "outputs": [
    {
     "name": "stdout",
     "output_type": "stream",
     "text": [
      "(array([[ 14, 160, 234],\n",
      "       [157,  65,  14],\n",
      "       [158, 105, 215],\n",
      "       [191,   0, 255]], dtype=uint8), array([1034144,     545, 1038183,     728], dtype=int64))\n",
      "[[-1.14259453e-01 -4.08057681e-01  2.81141316e+02]\n",
      " [-1.18194764e-01  1.85991847e-03  1.11310933e+02]\n",
      " [-1.37311646e-04 -1.54704892e-03  1.00000000e+00]]\n"
     ]
    },
    {
     "data": {
      "image/png": "[encoded data removed]",
      "text/plain": [
       "<Figure size 432x288 with 1 Axes>"
      ]
     },
     "metadata": {
      "needs_background": "light"
     },
     "output_type": "display_data"
    }
   ],
   "source": [
    "index = 10#35\n",
    "img = (images[index,:,:,]*255).astype(np.uint8)\n",
    "plt.imshow(img)\n",
    "# Для котнтроля опорных цветов \n",
    "print(np.unique(cv2.cvtColor(img,cv2.COLOR_BGR2RGB).reshape(-1, img.shape[2]), axis=0,return_counts=True))\n",
    "cameraDataProccesing = CameraDataProccesing(True,0)\n",
    "lidar_data_proccesing = LidarDataProccesing(False)\n",
    "fov_r = np.radians(120)\n",
    "dov = 16\n",
    "# PinholeCamera\n",
    "X = [880.0,380.0,380.0,880.0]\n",
    "Y = [-80.0,-10.0,10.0,100.0]\n",
    "x = [894.0,916.0,1000.0,1039.0]\n",
    "y = [622.0,866.0,895.0,621.0]\n",
    "control_points = (X,Y,x,y)\n",
    "pinholeCamera = PinholeCamera(control_points,True)"
   ]
  },
  {
   "cell_type": "code",
   "execution_count": 203,
   "metadata": {},
   "outputs": [],
   "source": [
    "# Калибровка камеры по результатам нескольких наблюдение Такаси алгоритм \n",
    "# Поменять коодинаты!!!!!!!!!\n",
    "objp_x = np.arange(2.5+10,77.5,10,)\n",
    "objp_y = np.arange(-15+10,35,10)\n",
    "objp = np.zeros((4*7,3), np.float32)\n",
    "objp[:,:2] = np.array(np.meshgrid(objp_x,objp_y)).T.reshape(-1,2)\n"
   ]
  },
  {
   "cell_type": "code",
   "execution_count": 204,
   "metadata": {},
   "outputs": [],
   "source": [
    "BOARD_SIZE = (7,4)\n",
    "BOARD_SIZE_UE4 = (75,50)\n",
    "dy = BOARD_SIZE_UE4[0]/BOARD_SIZE[0]\n",
    "dz = BOARD_SIZE_UE4[1]/BOARD_SIZE[1]\n",
    "def get_check_board_pose(chess_board_position,inner=True):\n",
    "    y0 = chess_board_position[0] *100- BOARD_SIZE_UE4[0]/2\n",
    "    z0 = -chess_board_position[1]*100 - BOARD_SIZE_UE4[1]/2\n",
    "    objp_y = [y0+dy*i for i in range(1,BOARD_SIZE[1]+1)]#np.arange(2.5+10,77.5,10,)\n",
    "    objp_z = [z0+dz*i for i in range(1,BOARD_SIZE[0]+1)]\n",
    "    objp = np.zeros((BOARD_SIZE[0]*BOARD_SIZE[1],3), np.float32)\n",
    "    objp[:,:2] = np.array(np.meshgrid(objp_y,objp_z)).T.reshape(-1,2)\n",
    "    return objp.copy()"
   ]
  },
  {
   "cell_type": "code",
   "execution_count": 205,
   "metadata": {},
   "outputs": [],
   "source": [
    "# termination criteria\n",
    "criteria = (cv2.TERM_CRITERIA_EPS + cv2.TERM_CRITERIA_MAX_ITER, 30, 0.001)\n",
    "# prepare object points, like (0,0,0), (1,0,0), (2,0,0) ....,(6,5,0)\n",
    "#objp = np.zeros((4*7,3), np.float32) # Пока так \n",
    "#objp[:,:2] = np.mgrid[0:4,0:7].T.reshape(-1,2)\n",
    "#Arrays to store object points and image points from all the images.\n",
    "objpoints = [] # 3d point in real world space\n",
    "imgpoints = [] # 2d points in image plane.\n",
    "ind_images = []"
   ]
  },
  {
   "cell_type": "code",
   "execution_count": null,
   "metadata": {},
   "outputs": [],
   "source": []
  },
  {
   "cell_type": "code",
   "execution_count": 206,
   "metadata": {},
   "outputs": [
    {
     "ename": "KeyboardInterrupt",
     "evalue": "",
     "output_type": "error",
     "traceback": [
      "\u001b[1;31m---------------------------------------------------------------------------\u001b[0m",
      "\u001b[1;31mKeyboardInterrupt\u001b[0m                         Traceback (most recent call last)",
      "\u001b[1;32m<ipython-input-206-01b46413c4f7>\u001b[0m in \u001b[0;36m<module>\u001b[1;34m\u001b[0m\n\u001b[0;32m      4\u001b[0m     \u001b[0mgray\u001b[0m \u001b[1;33m=\u001b[0m \u001b[0mcv2\u001b[0m\u001b[1;33m.\u001b[0m\u001b[0mcvtColor\u001b[0m\u001b[1;33m(\u001b[0m\u001b[0mimg_buf\u001b[0m\u001b[1;33m,\u001b[0m\u001b[0mcv2\u001b[0m\u001b[1;33m.\u001b[0m\u001b[0mCOLOR_RGB2GRAY\u001b[0m\u001b[1;33m)\u001b[0m\u001b[1;33m\u001b[0m\u001b[1;33m\u001b[0m\u001b[0m\n\u001b[0;32m      5\u001b[0m     ret, corners = cv2.findChessboardCorners(gray, BOARD_SIZE, \n\u001b[1;32m----> 6\u001b[1;33m                                              cv2.CALIB_CB_ADAPTIVE_THRESH + cv2.CALIB_CB_FAST_CHECK + cv2.CALIB_CB_NORMALIZE_IMAGE)\n\u001b[0m\u001b[0;32m      7\u001b[0m     \u001b[1;32mif\u001b[0m \u001b[0mret\u001b[0m \u001b[1;33m==\u001b[0m \u001b[1;32mTrue\u001b[0m\u001b[1;33m:\u001b[0m\u001b[1;31m# and corners.shape[0]>6:\u001b[0m\u001b[1;33m\u001b[0m\u001b[1;33m\u001b[0m\u001b[0m\n\u001b[0;32m      8\u001b[0m         \u001b[0mobjp\u001b[0m \u001b[1;33m=\u001b[0m \u001b[0mget_check_board_pose\u001b[0m\u001b[1;33m(\u001b[0m\u001b[0mobj_pos\u001b[0m\u001b[1;33m)\u001b[0m\u001b[1;33m\u001b[0m\u001b[1;33m\u001b[0m\u001b[0m\n",
      "\u001b[1;31mKeyboardInterrupt\u001b[0m: "
     ]
    }
   ],
   "source": [
    "11212\n",
    "for i,frame,obj_pos in zip(range(len(list_chess_images)),list_chess_images,chess_board_positions.values[:,[1,2]]):\n",
    "    img_buf = frame.copy()\n",
    "    gray = cv2.cvtColor(img_buf,cv2.COLOR_RGB2GRAY)\n",
    "    ret, corners = cv2.findChessboardCorners(gray, BOARD_SIZE, \n",
    "                                             cv2.CALIB_CB_ADAPTIVE_THRESH + cv2.CALIB_CB_FAST_CHECK + cv2.CALIB_CB_NORMALIZE_IMAGE)\n",
    "    if ret == True:# and corners.shape[0]>6:\n",
    "        objp = get_check_board_pose(obj_pos)\n",
    "        objpoints.append(objp)\n",
    "        # уточнение координат пикселей для заданных 2d точек.\n",
    "        corners2 = cv2.cornerSubPix(gray, corners, (11,11),(-1,-1), criteria)\n",
    "        ind_images.append(i)\n",
    "        imgpoints.append(corners2)\n",
    "        # Нарисовать и отобразить углы\n",
    "        img_buf = cv2.drawChessboardCorners(img_buf, BOARD_SIZE, corners2, ret)\n",
    "        cv2.imshow('img',img_buf)\n",
    "        cv2.waitKey(0)\n",
    "cv2.destroyAllWindows()"
   ]
  },
  {
   "cell_type": "code",
   "execution_count": 207,
   "metadata": {},
   "outputs": [
    {
     "data": {
      "text/plain": [
       "[0]"
      ]
     },
     "execution_count": 207,
     "metadata": {},
     "output_type": "execute_result"
    }
   ],
   "source": [
    "ind_images"
   ]
  },
  {
   "cell_type": "code",
   "execution_count": 208,
   "metadata": {},
   "outputs": [
    {
     "name": "stdout",
     "output_type": "stream",
     "text": [
      "Camera matrix : \n",
      "\n",
      "[[2.36399391e+03 0.00000000e+00 8.57928685e+02]\n",
      " [0.00000000e+00 3.14756038e+03 4.94872356e+02]\n",
      " [0.00000000e+00 0.00000000e+00 1.00000000e+00]]\n",
      "dist : \n",
      "\n",
      "rvecs : \n",
      "\n",
      "tvecs : \n",
      "\n"
     ]
    }
   ],
   "source": [
    "ret, mtx, dist, rvecs, tvecs = cv2.calibrateCamera(objpoints, imgpoints, gray.shape[::-1], None, None)\n",
    "print(\"Camera matrix : \\n\")\n",
    "print(mtx)\n",
    "print(\"dist : \\n\")\n",
    "print(\"rvecs : \\n\")\n",
    "print(\"tvecs : \\n\")"
   ]
  },
  {
   "cell_type": "code",
   "execution_count": 209,
   "metadata": {},
   "outputs": [
    {
     "data": {
      "text/plain": [
       "array([[260.2687947 ],\n",
       "       [119.88486591],\n",
       "       [953.77771748]])"
      ]
     },
     "execution_count": 209,
     "metadata": {},
     "output_type": "execute_result"
    }
   ],
   "source": [
    "tvecs[0]"
   ]
  },
  {
   "cell_type": "code",
   "execution_count": 210,
   "metadata": {},
   "outputs": [
    {
     "data": {
      "text/plain": [
       "179.93325176258278"
      ]
     },
     "execution_count": 210,
     "metadata": {},
     "output_type": "execute_result"
    }
   ],
   "source": [
    "np.degrees(np.linalg.norm(rvecs[0]))"
   ]
  },
  {
   "cell_type": "code",
   "execution_count": 211,
   "metadata": {},
   "outputs": [
    {
     "data": {
      "text/plain": [
       "0"
      ]
     },
     "execution_count": 211,
     "metadata": {},
     "output_type": "execute_result"
    }
   ],
   "source": [
    "ind_images[0]"
   ]
  },
  {
   "cell_type": "code",
   "execution_count": 212,
   "metadata": {},
   "outputs": [
    {
     "name": "stdout",
     "output_type": "stream",
     "text": [
      "total error: 0.0219626583440475\n"
     ]
    }
   ],
   "source": [
    "mean_error = 0\n",
    "total_errors = []\n",
    "for i in range(len(objpoints)):\n",
    "    imgpoints2, _ = cv2.projectPoints(objpoints[i], rvecs[i], tvecs[i], mtx, dist)\n",
    "    error = cv2.norm(imgpoints[i], imgpoints2, cv2.NORM_L2)/len(imgpoints2)\n",
    "    mean_error += error\n",
    "    total_errors.append(mean_error/(i+1))\n",
    "print( \"total error: {}\".format(mean_error/len(objpoints)) )"
   ]
  },
  {
   "cell_type": "code",
   "execution_count": 213,
   "metadata": {},
   "outputs": [
    {
     "data": {
      "text/plain": [
       "[<matplotlib.lines.Line2D at 0x2dc954909c8>]"
      ]
     },
     "execution_count": 213,
     "metadata": {},
     "output_type": "execute_result"
    },
    {
     "data": {
      "image/png": "[encoded data removed]",
      "text/plain": [
       "<Figure size 432x288 with 1 Axes>"
      ]
     },
     "metadata": {
      "needs_background": "light"
     },
     "output_type": "display_data"
    }
   ],
   "source": [
    "plt.plot(total_errors)"
   ]
  },
  {
   "cell_type": "code",
   "execution_count": 214,
   "metadata": {},
   "outputs": [],
   "source": [
    "h,  w = images[0].shape[:2]\n",
    "newcameramtx, roi = cv2.getOptimalNewCameraMatrix(mtx, dist, (w,h), 1, (w,h))"
   ]
  },
  {
   "cell_type": "code",
   "execution_count": 215,
   "metadata": {},
   "outputs": [
    {
     "data": {
      "text/plain": [
       "array([[2.36399391e+03, 0.00000000e+00, 8.57928685e+02],\n",
       "       [0.00000000e+00, 3.14756038e+03, 4.94872356e+02],\n",
       "       [0.00000000e+00, 0.00000000e+00, 1.00000000e+00]])"
      ]
     },
     "execution_count": 215,
     "metadata": {},
     "output_type": "execute_result"
    }
   ],
   "source": [
    "mtx"
   ]
  },
  {
   "cell_type": "code",
   "execution_count": 216,
   "metadata": {},
   "outputs": [
    {
     "name": "stdout",
     "output_type": "stream",
     "text": [
      "[[2.36399391e+03 0.00000000e+00 8.57928685e+02]\n",
      " [0.00000000e+00 3.14756038e+03 4.94872356e+02]\n",
      " [0.00000000e+00 0.00000000e+00 1.00000000e+00]]\n"
     ]
    }
   ],
   "source": [
    "pinholeCamera.set_homogeneous_matrix(mtx)"
   ]
  },
  {
   "cell_type": "code",
   "execution_count": 217,
   "metadata": {},
   "outputs": [],
   "source": [
    "# получить точки дуги радиуса r с углом phi с углом alpha(в радианах) относительно OX в точке (x0,y0)\n",
    "def get_arc_pnts(r,phi, alpha ,x0,y0,N=100):\n",
    "    # начальная точка \n",
    "    arc_pnts = [[x0,y0]]\n",
    "    # первый край\n",
    "    arc_pnts.append([x0+r*np.cos(alpha-phi/2),y0+r*np.sin(alpha-phi/2)])\n",
    "    # дуга \n",
    "    theta = np.linspace(alpha-phi/2,alpha+phi/2,num=N)\n",
    "    arc_pnts = arc_pnts+[[x0+r*np.cos(t),y0+r*np.sin(t)] for t in theta]\n",
    "    # второй край\n",
    "    arc_pnts.append([x0+r*np.cos(alpha+phi/2),y0+r*np.sin(alpha+phi/2)])\n",
    "    # возвращаемся\n",
    "    \n",
    "    arc_pnts.append(arc_pnts[0])\n",
    "    return np.array(arc_pnts)\n",
    "# отобрать все точки, которые входят в данный сектор радиуса r и углом phi и направлением alpha   \n",
    "def find_in_contour(points,arc_pnts,r,phi,x0,y0,alpha,epsilon_1=10**(-3),epsilon_2=10**(-3)):\n",
    "    # 2 точка и предпоследняя это границы, тогда вектор направления\n",
    "    arc_pnts_ = arc_pnts\n",
    "    xd2 = (arc_pnts_[1][0]+arc_pnts_[-2][0])/2\n",
    "    yd2 = (arc_pnts_[1][1]+arc_pnts_[-2][1])/2\n",
    "    direct_vec = [xd2,yd2]\n",
    "    # по расстоянию\n",
    "    print(direct_vec)\n",
    "    inds_r = np.where(np.linalg.norm(points-arc_pnts[0],axis=1) <=r*(1+epsilon_1))\n",
    "    points_ir = points[inds_r]\n",
    "    # по углу\n",
    "    angles = np.arccos(np.matmul(points_ir-arc_pnts[0],direct_vec-arc_pnts[0])\n",
    "                       /(np.linalg.norm(points_ir - arc_pnts[0],axis=1)*np.linalg.norm(direct_vec-arc_pnts[0])))\n",
    "    # & поэлеиентное и and сравнивает весь \n",
    "    ind_a = np.where((angles<=phi*(epsilon_2+1)/2)&(-phi*(epsilon_2+1)/2<=angles))\n",
    "    points_a = points_ir[ind_a] \n",
    "    return points_a, [inds_r,ind_a]"
   ]
  },
  {
   "cell_type": "code",
   "execution_count": 218,
   "metadata": {},
   "outputs": [],
   "source": [
    "def rotate_point(cx,cy,angle,p):\n",
    "    s = np.sin(angle)\n",
    "    c = np.cos(angle)\n",
    "    # translate point back to origin:\n",
    "    x, y = p \n",
    "    x -= cx\n",
    "    y -= cy\n",
    "    # rotate point\n",
    "    xnew = x * c - y * s\n",
    "    ynew = x * s + y * c\n",
    "    # translate point back:\n",
    "    x = xnew + cx\n",
    "    y = ynew + cy\n",
    "    return [x,y]\n",
    "def circle(r,eps):\n",
    "    theta = np.linspace(np.pi*1.5, (1.5 + 10**eps)*np.pi, 100)\n",
    "    x = r*np.cos(theta)\n",
    "    y = r +r*np.sin(theta)\n",
    "    return x,y"
   ]
  },
  {
   "cell_type": "code",
   "execution_count": 219,
   "metadata": {
    "scrolled": true
   },
   "outputs": [
    {
     "name": "stdout",
     "output_type": "stream",
     "text": [
      "Wall time: 0 ns\n",
      "(7, 2)\n",
      "[7.46847732247842, -2.8673762368453826]\n",
      "[-1.2676506e+29]\n",
      "Оптимальный угол поворота [-2.05103835e-29]\n"
     ]
    }
   ],
   "source": [
    "%time\n",
    "# Разделили на картинке левые и правые конусы(они отличаются по цвету)\n",
    "img_HSV = cv2.cvtColor(img,cv2.COLOR_BGR2HSV)\n",
    "img_tresh_low,img_tresh_high = cameraDataProccesing.color_clustering(img_HSV)\n",
    "# Получаем прямоугольники, ограничивающие контуры \n",
    "cntr_ps_low, bounding_rects_low, cones_low =cameraDataProccesing.get_bounding_rect(img_tresh_low,False)\n",
    "cntr_ps_high, bounding_rects_high, cones_high =cameraDataProccesing.get_bounding_rect(img_tresh_high,False)\n",
    "# Берем только первые две пары передних \n",
    "max_area_ind = lambda cones: np.argmax(list(map(lambda ch:cv2.contourArea(ch),cones)))\n",
    "n_max_area_ind = lambda cones: np.flip(np.argsort(list(map(lambda ch:cv2.contourArea(ch),cones))))[0:2]\n",
    "\n",
    "ind_low =n_max_area_ind(cones_low)\n",
    "ind_high =n_max_area_ind(cones_high)\n",
    "\n",
    "cntr_ps = []\n",
    "for ind in ind_low:\n",
    "    #contur1 = np.append(cones_low[ind], [cones_high[ind][0]], axis=0)\n",
    "    contur1 = cones_low[ind]\n",
    "    cntr_ps.append([contur1[:, :, 0].mean(), contur1[:, :, 1].mean()])\n",
    "    #cntr_ps.append((cntr_ps_low[ind]))\n",
    "for ind in ind_high:\n",
    "    #contur1 = np.append(cones_high[ind], cones_high[ind][0], axis=0)\n",
    "    contur1 = cones_high[ind]\n",
    "    cntr_ps.append([contur1[:, :, 0].mean(), contur1[:, :, 1].mean()])\n",
    "    #cntr_ps.append((cntr_ps_high[ind]))\n",
    "\n",
    "cntr_ps = np.array(cntr_ps)\n",
    "# Используя опорные цвета сегментации AirSim  ставим метки. Нужен для SVM\n",
    "labels = cameraDataProccesing.get_label(cv2.cvtColor(img,cv2.COLOR_BGR2RGB),cntr_ps)\n",
    "\n",
    "# lidar_data_proccesing \n",
    "#lidar_data_proccesing.plot_disntane_function(lidar_data[index])\n",
    "cone_center,dist = lidar_data_proccesing.get_cone_info(lidar_data[index])\n",
    "approx_cone_center = lidar_data_proccesing.approx_data(cone_center)\n",
    "#lidar_data_proccesing.visulation_cone(approx_cone_center)\n",
    "\n",
    "\n",
    "# PinholeCamera\n",
    "space_cooord = []\n",
    "for pnt in cntr_ps:\n",
    "    coord = pinholeCamera.get_spaces_coord(pnt)/100\n",
    "    #coord = rotate_point(0,0,0*orientation.Z[index],coord)\n",
    "    coord = [coord[0],coord[1] -0*230/100]\n",
    "    # print(coord)\n",
    "    space_cooord.append(coord)\n",
    "    \n",
    "# SVM\n",
    "Y_train = labels\n",
    "X_train = space_cooord[0:len(Y_train)]\n",
    "X_test = approx_cone_center\n",
    "\n",
    "from sklearn import svm\n",
    "\n",
    "C = 1.0  # = self._alpha in our algorithm\n",
    "model1 = svm.SVC(kernel='linear', C=C)\n",
    "#model1 = svm.LinearSVC(C=C, max_iter=10000)\n",
    "#model1 = svm.SVC(kernel='rbf', gamma=0.7, C=C)\n",
    "# model1 = svm.SVC(kernel='poly', degree=3, gamma='auto', C=C)\n",
    "\n",
    "model1.fit(X_train, Y_train)\n",
    "y_predict = model1.predict(X_test)\n",
    "\n",
    "# Выбираем только те точки, которые находятся в конусе видимости\n",
    "orientation  = position_lidar.iloc[index][['Roll','Pitch','Yaw']]\n",
    "yaw = orientation.Yaw\n",
    "# Так как данные lidar в локальных координатах \n",
    "x0 = 0\n",
    "y0 = 0\n",
    "arc_pnts = get_arc_pnts(dov,fov_r, yaw ,x0,y0)\n",
    "print(approx_cone_center.shape)\n",
    "\n",
    "# approx_cone_center_0 = approx_cone_center[y_predict==0]\n",
    "# approx_cone_center_1 = approx_cone_center[y_predict==1]\n",
    "approx_cone_center_in,inds = find_in_contour(approx_cone_center,arc_pnts,dov,fov_r,x0,y0,yaw)\n",
    "y_predict =y_predict[inds[0]][inds[1]]\n",
    "# approx_cone_center_0_in = find_in_contour(approx_cone_center_1,arc_pnts,dov,fov_r,x0,y0,yaw)\n",
    "# approx_cone_center_1_in = find_in_contour(approx_cone_center,arc_pnts,dov,fov_r,x0,y0,yaw)\n",
    "\n",
    "# distance_0 = lidar_data_proccesing.calculate_distance_cones(approx_cone_center_0_in)\n",
    "# distance_1 =lidar_data_proccesing.calculate_distance_cones(approx_cone_center_1_in)\n",
    "\n",
    "# Находим оптимальный угол поворота\n",
    "from scipy.optimize import minimize\n",
    "def objective(Nt,pnts,r):\n",
    "    # v = 0\n",
    "    # for pnt in pnts:\n",
    "    #     v = v + ((pnt[0]**2 + (pnt[1]-r)**2)**(1/2)-r)**2\n",
    "    \n",
    "    return -np.sum((pnts[:,0]**2  + ((pnts[:,1]-r)**2)**(1/2) - r)**2)\n",
    "ff = lambda r: objective(approx_cone_center_in.shape[0],approx_cone_center_in,r)\n",
    "result = minimize(ff, 2, method='nelder-mead')\n",
    "print(result.x)\n",
    "print(f\"Оптимальный угол поворота {np.arctan(2.6/(result.x+1/2))}\")"
   ]
  },
  {
   "cell_type": "code",
   "execution_count": null,
   "metadata": {},
   "outputs": [],
   "source": []
  },
  {
   "cell_type": "code",
   "execution_count": 220,
   "metadata": {},
   "outputs": [
    {
     "data": {
      "text/plain": [
       "(-1447.7842345431015,\n",
       " 30403.46892540513,\n",
       " -971.9286040320353,\n",
       " 20062.831199552555)"
      ]
     },
     "execution_count": 220,
     "metadata": {},
     "output_type": "execute_result"
    },
    {
     "data": {
      "image/png": "[encoded data removed]",
      "text/plain": [
       "<Figure size 1080x1080 with 3 Axes>"
      ]
     },
     "metadata": {
      "needs_background": "light"
     },
     "output_type": "display_data"
    }
   ],
   "source": [
    "f, axes = plt.subplots(nrows=3, ncols=1,figsize=(15,15))\n",
    "img_res = img.copy()\n",
    "img_res_front = img.copy()\n",
    "for i in range(len(bounding_rects_low)):\n",
    "    rect =bounding_rects_low[i]\n",
    "    cv2.rectangle(img_res, (rect[0], rect[1]), (rect[0]+rect[2], rect[1]+rect[3]), (255, 255,255), 3)\n",
    "    if i in ind_low:\n",
    "        cv2.rectangle(img_res_front, (rect[0], rect[1]), (rect[0]+rect[2], rect[1]+rect[3]), (255, 255,255), 3)   \n",
    "        \n",
    "        \n",
    "for i in range(len(bounding_rects_high)):\n",
    "    rect =bounding_rects_high[i]\n",
    "    cv2.rectangle(img_res, (rect[0], rect[1]), (rect[0]+rect[2], rect[1]+rect[3]), (255, 255,255), 3)\n",
    "    if i in ind_high:\n",
    "        cv2.rectangle(img_res_front, (rect[0], rect[1]), (rect[0]+rect[2], rect[1]+rect[3]), (255, 255,255), 3)  \n",
    "        \n",
    "axes[0].imshow(img_res)\n",
    "axes[1].imshow(img_res_front)\n",
    "axes[1].set_title(\"Какие конусы учитываем\")\n",
    "\n",
    "\n",
    "for pnt in space_cooord:\n",
    "    axes[2].scatter(pnt[0],pnt[1], c = \"red\")\n",
    "axes[2].plot(arc_pnts[:,0],arc_pnts[:,1])\n",
    "axes[2].axis('equal')"
   ]
  },
  {
   "cell_type": "code",
   "execution_count": 221,
   "metadata": {},
   "outputs": [],
   "source": [
    "pose_car = position_lidar.iloc[index][['X','Y']]"
   ]
  },
  {
   "cell_type": "code",
   "execution_count": 222,
   "metadata": {},
   "outputs": [],
   "source": [
    "# Найдем все точки, которые лежат внутри окружности \n",
    "cones_world = world_data.query(\"(X-@pose_car[0])**2+(Y-@pose_car[1])**2<=15**2\")\n",
    "cones_lidar = lidar_data[index]\n",
    "orientation  = position_lidar.iloc[index][['Roll','Pitch','Yaw']]"
   ]
  },
  {
   "cell_type": "code",
   "execution_count": 223,
   "metadata": {},
   "outputs": [
    {
     "data": {
      "image/png": "[encoded data removed]",
      "text/plain": [
       "<Figure size 1080x1080 with 4 Axes>"
      ]
     },
     "metadata": {
      "needs_background": "light"
     },
     "output_type": "display_data"
    }
   ],
   "source": [
    "f, axes = plt.subplots(nrows=4, ncols=1,figsize=(15,15))\n",
    "img_res_front = img.copy()\n",
    "img_res = img.copy()\n",
    "for i in range(len(bounding_rects_low)):\n",
    "    rect =bounding_rects_low[i]\n",
    "    cv2.rectangle(img_res, (rect[0], rect[1]), (rect[0]+rect[2], rect[1]+rect[3]), (255, 255,255), 3)\n",
    "    if i in ind_low:\n",
    "        cv2.rectangle(img_res_front, (rect[0], rect[1]), (rect[0]+rect[2], rect[1]+rect[3]), (255, 255,255), 3)   \n",
    "        \n",
    "        \n",
    "for i in range(len(bounding_rects_high)):\n",
    "    rect =bounding_rects_high[i]\n",
    "    cv2.rectangle(img_res, (rect[0], rect[1]), (rect[0]+rect[2], rect[1]+rect[3]), (255, 255,255), 3)\n",
    "    if i in ind_high:\n",
    "        cv2.rectangle(img_res_front, (rect[0], rect[1]), (rect[0]+rect[2], rect[1]+rect[3]), (255, 255,255), 3)  \n",
    "        \n",
    "#yaw = position_lidar.yaw[index]\n",
    "new_x = np.cos(yaw)\n",
    "new_y = np.sin(yaw)\n",
    "axes[0].imshow(img_res)\n",
    "axes[0].set_title(\"Все конусы\")\n",
    "\n",
    "axes[1].imshow(img_res_front)\n",
    "axes[1].set_title(\"Какие конусы учитываем\")\n",
    "\n",
    "axes[2].scatter(lidar_data[index][0,:],lidar_data[index][1,:])\n",
    "#axes[2].scatter(s)\n",
    "axes[2].scatter(0,0)\n",
    "axes[2].quiver(0,0,new_x,new_y)\n",
    "for pnt in space_cooord:\n",
    "    axes[2].scatter(pnt[0],pnt[1], c = \"red\")\n",
    "axes[2].set_title(\"Данные лидара в относительных координатах c результом гомеографии точек с картинки \")\n",
    "\n",
    "#axes[2].set_xlim((-15, 15))\n",
    "#axes[2].set_ylim((-15, 15))\n",
    "#axes[3].set_xlim((-15, 15))\n",
    "#axes[3].set_ylim((-15, 15))\n",
    "for pnt in space_cooord:\n",
    "    axes[3].scatter(pnt[0],pnt[1], c = \"red\")\n",
    "#axes[3].scatter(lidar_data[index][0,:],lidar_data[index][1,:])\n",
    "axes[3].scatter(approx_cone_center_in.T[0,:],approx_cone_center_in.T[1,:],c=y_predict)\n",
    "axes[3].axis(\"equal\")\n",
    "#yaw = orientation.Z[index]\n",
    "#axes[3].fill([0,20,20,0],[0,10*np.tan(np.radians(60)),10*np.tan(np.radians(-60)),0] , color=\"cyan\", alpha = 0.15)\n",
    "axes[3].plot(arc_pnts[:,0],arc_pnts[:,1])\n",
    "axes[3].quiver(0,0,new_x,new_y)\n",
    "axes[3].set_title(\"Результат SVM\")\n",
    "None\n"
   ]
  },
  {
   "cell_type": "code",
   "execution_count": 224,
   "metadata": {},
   "outputs": [
    {
     "data": {
      "text/plain": [
       "array([[  1.9166673 ,   2.3378377 ,   2.7576487 , ...,  -5.422388  ,\n",
       "         -5.450535  ,  -5.4752817 ],\n",
       "       [-16.750895  , -16.700605  , -16.6398    , ...,   1.1909214 ,\n",
       "          1.0541296 ,   0.9166372 ],\n",
       "       [  0.98199487,   0.98218423,   0.9823731 , ...,   0.9789051 ,\n",
       "          0.97889096,   0.9788783 ]], dtype=float32)"
      ]
     },
     "execution_count": 224,
     "metadata": {},
     "output_type": "execute_result"
    }
   ],
   "source": [
    "lidar_data[index]"
   ]
  },
  {
   "cell_type": "code",
   "execution_count": 225,
   "metadata": {},
   "outputs": [
    {
     "data": {
      "text/plain": [
       "array([[[ 8.750323  , 15.160078  ,  9.65665   , ..., -5.422388  ,\n",
       "         -5.450535  , -5.4752817 ]],\n",
       "\n",
       "       [[-3.1949449 , -4.271156  ,  3.5714219 , ...,  1.1909214 ,\n",
       "          1.0541296 ,  0.9166372 ]],\n",
       "\n",
       "       [[ 0.5425565 ,  0.9173479 ,  0.5996702 , ...,  0.9789051 ,\n",
       "          0.97889096,  0.9788783 ]]], dtype=float32)"
      ]
     },
     "execution_count": 225,
     "metadata": {},
     "output_type": "execute_result"
    }
   ],
   "source": [
    "lidar_data[index][:,np.where(np.linalg.norm(lidar_data[index],axis=0)<16)]"
   ]
  },
  {
   "cell_type": "code",
   "execution_count": 226,
   "metadata": {},
   "outputs": [
    {
     "data": {
      "text/plain": [
       "array([[  2.7576487 ,   3.1759334 ],\n",
       "       [-16.6398    , -16.568253  ],\n",
       "       [  0.9823731 ,   0.98256147]], dtype=float32)"
      ]
     },
     "execution_count": 226,
     "metadata": {},
     "output_type": "execute_result"
    }
   ],
   "source": [
    "lidar_data[index][:,[2,3]]"
   ]
  },
  {
   "cell_type": "code",
   "execution_count": 17,
   "metadata": {},
   "outputs": [],
   "source": [
    "cones = []\n",
    "for pnt in lidar_data[index].T:\n",
    "    if (6<np.linalg.norm(pnt) and np.linalg.norm(pnt)<16) or (5>np.linalg.norm(pnt)):\n",
    "        cones.append(pnt)\n",
    "cones = np.array(cones)"
   ]
  },
  {
   "cell_type": "code",
   "execution_count": 34,
   "metadata": {},
   "outputs": [
    {
     "data": {
      "text/plain": [
       "Text(0.5, 1.0, 'Данные после обработки ')"
      ]
     },
     "execution_count": 34,
     "metadata": {},
     "output_type": "execute_result"
    },
    {
     "data": {
      "image/png": "[encoded data removed]",
      "text/plain": [
       "<Figure size 720x360 with 2 Axes>"
      ]
     },
     "metadata": {
      "needs_background": "light"
     },
     "output_type": "display_data"
    }
   ],
   "source": [
    "index = 12\n",
    "f, axes = plt.subplots(nrows=1, ncols=2,figsize=(10,5))\n",
    "axes[0].plot(lidar_data[index ][0,:],lidar_data[index ][1,:],'o',c='g')\n",
    "axes[0].plot(0,0)\n",
    "axes[0].axis('equal')\n",
    "axes[0].set_title(\"Данные до обработки \")\n",
    "axes[1].plot(cones[:,0],cones[:,1],'o',c='g')\n",
    "axes[1].plot(0,0)\n",
    "axes[1].axis('equal')\n",
    "axes[1].set_title(\"Данные после обработки \")"
   ]
  },
  {
   "cell_type": "code",
   "execution_count": 241,
   "metadata": {},
   "outputs": [
    {
     "data": {
      "text/plain": [
       "Text(0.5, 1.0, 'Данные лидара после примения SVM ')"
      ]
     },
     "execution_count": 241,
     "metadata": {},
     "output_type": "execute_result"
    },
    {
     "data": {
      "image/png": "[encoded data removed]",
      "text/plain": [
       "<Figure size 1080x360 with 2 Axes>"
      ]
     },
     "metadata": {
      "needs_background": "light"
     },
     "output_type": "display_data"
    }
   ],
   "source": [
    "f, axes = plt.subplots(nrows=1, ncols=2,figsize=(15,5))\n",
    "axes[0].plot(cones[:,0],cones[:,1],'o')\n",
    "axes[0].plot(0,0)\n",
    "axes[0].axis('equal')\n",
    "axes[0].set_title(\"Данные лидара после преобразования матрцией камеры \")\n",
    "axes[1].plot(cones[:,0],cones[:,1],'o')\n",
    "axes[1].plot(0,0)\n",
    "axes[1].set_title(\"Данные лидара после примения SVM \")"
   ]
  },
  {
   "cell_type": "code",
   "execution_count": 174,
   "metadata": {},
   "outputs": [
    {
     "data": {
      "text/plain": [
       "(3, 590)"
      ]
     },
     "execution_count": 174,
     "metadata": {},
     "output_type": "execute_result"
    }
   ],
   "source": [
    "lidar_data[1].shape"
   ]
  },
  {
   "cell_type": "code",
   "execution_count": 109,
   "metadata": {},
   "outputs": [
    {
     "ename": "IndexError",
     "evalue": "index 1 is out of bounds for axis 1 with size 1",
     "output_type": "error",
     "traceback": [
      "\u001b[1;31m---------------------------------------------------------------------------\u001b[0m",
      "\u001b[1;31mIndexError\u001b[0m                                Traceback (most recent call last)",
      "\u001b[1;32m<ipython-input-109-26774ae6860f>\u001b[0m in \u001b[0;36m<module>\u001b[1;34m\u001b[0m\n\u001b[1;32m----> 1\u001b[1;33m \u001b[0mcones_in\u001b[0m\u001b[1;33m[\u001b[0m\u001b[1;33m:\u001b[0m\u001b[1;33m,\u001b[0m\u001b[0mnp\u001b[0m\u001b[1;33m.\u001b[0m\u001b[0mwhere\u001b[0m\u001b[1;33m(\u001b[0m\u001b[0mnp\u001b[0m\u001b[1;33m.\u001b[0m\u001b[0mlinalg\u001b[0m\u001b[1;33m.\u001b[0m\u001b[0mnorm\u001b[0m\u001b[1;33m(\u001b[0m\u001b[0mcones_in\u001b[0m\u001b[1;33m,\u001b[0m\u001b[0maxis\u001b[0m\u001b[1;33m=\u001b[0m\u001b[1;36m0\u001b[0m\u001b[1;33m)\u001b[0m\u001b[1;33m>\u001b[0m\u001b[1;36m4\u001b[0m\u001b[1;33m)\u001b[0m\u001b[1;33m]\u001b[0m\u001b[1;33m\u001b[0m\u001b[1;33m\u001b[0m\u001b[0m\n\u001b[0m",
      "\u001b[1;31mIndexError\u001b[0m: index 1 is out of bounds for axis 1 with size 1"
     ]
    }
   ],
   "source": [
    "cones_in[:,np.where(np.linalg.norm(cones_in,axis=0)>4)]"
   ]
  },
  {
   "cell_type": "code",
   "execution_count": 46,
   "metadata": {},
   "outputs": [
    {
     "data": {
      "text/plain": [
       "[]"
      ]
     },
     "execution_count": 46,
     "metadata": {},
     "output_type": "execute_result"
    }
   ],
   "source": [
    "index"
   ]
  },
  {
   "cell_type": "code",
   "execution_count": null,
   "metadata": {},
   "outputs": [],
   "source": []
  },
  {
   "cell_type": "code",
   "execution_count": 33,
   "metadata": {
    "scrolled": true
   },
   "outputs": [
    {
     "ename": "IndexError",
     "evalue": "boolean index did not match indexed array along dimension 0; dimension is 7 but corresponding boolean dimension is 4",
     "output_type": "error",
     "traceback": [
      "\u001b[1;31m---------------------------------------------------------------------------\u001b[0m",
      "\u001b[1;31mIndexError\u001b[0m                                Traceback (most recent call last)",
      "\u001b[1;32m<ipython-input-33-1f6567b6e974>\u001b[0m in \u001b[0;36m<module>\u001b[1;34m\u001b[0m\n\u001b[0;32m      1\u001b[0m \u001b[0mf\u001b[0m\u001b[1;33m,\u001b[0m \u001b[0maxes\u001b[0m \u001b[1;33m=\u001b[0m \u001b[0mplt\u001b[0m\u001b[1;33m.\u001b[0m\u001b[0msubplots\u001b[0m\u001b[1;33m(\u001b[0m\u001b[0mnrows\u001b[0m\u001b[1;33m=\u001b[0m\u001b[1;36m1\u001b[0m\u001b[1;33m,\u001b[0m \u001b[0mncols\u001b[0m\u001b[1;33m=\u001b[0m\u001b[1;36m1\u001b[0m\u001b[1;33m,\u001b[0m\u001b[0mfigsize\u001b[0m\u001b[1;33m=\u001b[0m\u001b[1;33m(\u001b[0m\u001b[1;36m15\u001b[0m\u001b[1;33m,\u001b[0m\u001b[1;36m15\u001b[0m\u001b[1;33m)\u001b[0m\u001b[1;33m)\u001b[0m\u001b[1;33m\u001b[0m\u001b[1;33m\u001b[0m\u001b[0m\n\u001b[1;32m----> 2\u001b[1;33m \u001b[1;32mfor\u001b[0m \u001b[0mpnt\u001b[0m\u001b[1;33m,\u001b[0m\u001b[0mdist\u001b[0m \u001b[1;32min\u001b[0m \u001b[0mzip\u001b[0m\u001b[1;33m(\u001b[0m\u001b[0mapprox_cone_center\u001b[0m\u001b[1;33m[\u001b[0m\u001b[0my_predict\u001b[0m\u001b[1;33m==\u001b[0m\u001b[1;36m0\u001b[0m\u001b[1;33m]\u001b[0m\u001b[1;33m,\u001b[0m\u001b[0mdistance_0\u001b[0m\u001b[1;33m)\u001b[0m\u001b[1;33m:\u001b[0m\u001b[1;33m\u001b[0m\u001b[1;33m\u001b[0m\u001b[0m\n\u001b[0m\u001b[0;32m      3\u001b[0m     \u001b[0maxes\u001b[0m\u001b[1;33m.\u001b[0m\u001b[0mplot\u001b[0m\u001b[1;33m(\u001b[0m\u001b[1;33m[\u001b[0m\u001b[0mpnt\u001b[0m\u001b[1;33m[\u001b[0m\u001b[1;36m0\u001b[0m\u001b[1;33m]\u001b[0m\u001b[1;33m,\u001b[0m\u001b[1;36m0\u001b[0m\u001b[1;33m]\u001b[0m\u001b[1;33m,\u001b[0m\u001b[1;33m[\u001b[0m\u001b[0mpnt\u001b[0m\u001b[1;33m[\u001b[0m\u001b[1;36m1\u001b[0m\u001b[1;33m]\u001b[0m\u001b[1;33m,\u001b[0m\u001b[1;36m0\u001b[0m\u001b[1;33m]\u001b[0m\u001b[1;33m,\u001b[0m\u001b[0mc\u001b[0m\u001b[1;33m=\u001b[0m\u001b[1;34m\"red\"\u001b[0m\u001b[1;33m,\u001b[0m\u001b[0mlabel\u001b[0m \u001b[1;33m=\u001b[0m \u001b[0mstr\u001b[0m\u001b[1;33m(\u001b[0m\u001b[0mdist\u001b[0m\u001b[1;33m)\u001b[0m\u001b[1;33m)\u001b[0m\u001b[1;33m\u001b[0m\u001b[1;33m\u001b[0m\u001b[0m\n\u001b[0;32m      4\u001b[0m \u001b[1;32mfor\u001b[0m \u001b[0mpnt\u001b[0m\u001b[1;33m,\u001b[0m\u001b[0mdist\u001b[0m \u001b[1;32min\u001b[0m \u001b[0mzip\u001b[0m\u001b[1;33m(\u001b[0m\u001b[0mapprox_cone_center\u001b[0m\u001b[1;33m[\u001b[0m\u001b[0my_predict\u001b[0m\u001b[1;33m==\u001b[0m\u001b[1;36m1\u001b[0m\u001b[1;33m]\u001b[0m\u001b[1;33m,\u001b[0m\u001b[0mdistance_1\u001b[0m\u001b[1;33m)\u001b[0m\u001b[1;33m:\u001b[0m\u001b[1;33m\u001b[0m\u001b[1;33m\u001b[0m\u001b[0m\n\u001b[0;32m      5\u001b[0m     \u001b[0maxes\u001b[0m\u001b[1;33m.\u001b[0m\u001b[0mplot\u001b[0m\u001b[1;33m(\u001b[0m\u001b[1;33m[\u001b[0m\u001b[0mpnt\u001b[0m\u001b[1;33m[\u001b[0m\u001b[1;36m0\u001b[0m\u001b[1;33m]\u001b[0m\u001b[1;33m,\u001b[0m\u001b[1;36m0\u001b[0m\u001b[1;33m]\u001b[0m\u001b[1;33m,\u001b[0m\u001b[1;33m[\u001b[0m\u001b[0mpnt\u001b[0m\u001b[1;33m[\u001b[0m\u001b[1;36m1\u001b[0m\u001b[1;33m]\u001b[0m\u001b[1;33m,\u001b[0m\u001b[1;36m0\u001b[0m\u001b[1;33m]\u001b[0m\u001b[1;33m,\u001b[0m\u001b[0mc\u001b[0m\u001b[1;33m=\u001b[0m\u001b[1;34m\"yellow\"\u001b[0m\u001b[1;33m,\u001b[0m\u001b[0mlabel\u001b[0m \u001b[1;33m=\u001b[0m \u001b[0mstr\u001b[0m\u001b[1;33m(\u001b[0m\u001b[0mdist\u001b[0m\u001b[1;33m)\u001b[0m\u001b[1;33m)\u001b[0m\u001b[1;33m\u001b[0m\u001b[1;33m\u001b[0m\u001b[0m\n",
      "\u001b[1;31mIndexError\u001b[0m: boolean index did not match indexed array along dimension 0; dimension is 7 but corresponding boolean dimension is 4"
     ]
    },
    {
     "data": {
      "image/png": "[encoded data removed]",
      "text/plain": [
       "<Figure size 1080x1080 with 1 Axes>"
      ]
     },
     "metadata": {
      "needs_background": "light"
     },
     "output_type": "display_data"
    }
   ],
   "source": [
    "f, axes = plt.subplots(nrows=1, ncols=1,figsize=(15,15))\n",
    "for pnt,dist in zip(approx_cone_center[y_predict==0],distance_0):\n",
    "    axes.plot([pnt[0],0],[pnt[1],0],c=\"red\",label = str(dist))\n",
    "for pnt,dist in zip(approx_cone_center[y_predict==1],distance_1):\n",
    "    axes.plot([pnt[0],0],[pnt[1],0],c=\"yellow\",label = str(dist))\n",
    "axes.set_title(\"Расстояния до конусов и оптимальная дуга поворота\")\n",
    "axes.legend()\n",
    "\n",
    "#x1,y1 = circle(result.x[0],0)\n",
    "x2,y2 = circle(1/np.tan(-1),0.001)\n",
    "x3,y3 = circle(1/np.tan(1),0.001)\n",
    "#axes.plot(x1, -y1, color=\"blue\",label = \"оптимальная дуга поворота\")\n",
    "axes.plot(-x2, y2,color = \"green\",label = \"Минимальный радиус в airsim\")\n",
    "axes.plot(x3, y3, color = \"cyan\", label = \"Максимальный радиус в airsim\")\n",
    "axes.legend()"
   ]
  },
  {
   "cell_type": "code",
   "execution_count": null,
   "metadata": {},
   "outputs": [],
   "source": []
  },
  {
   "cell_type": "code",
   "execution_count": null,
   "metadata": {},
   "outputs": [],
   "source": []
  },
  {
   "cell_type": "code",
   "execution_count": null,
   "metadata": {},
   "outputs": [],
   "source": [
    "# + угол обзора ПОЛОЖЕНИЯ ВСЕХ КОНУСОВ "
   ]
  },
  {
   "cell_type": "code",
   "execution_count": null,
   "metadata": {},
   "outputs": [],
   "source": [
    "# вся трасса изветсна\n",
    "# Центр тяжело найти ->PID -"
   ]
  },
  {
   "cell_type": "code",
   "execution_count": null,
   "metadata": {},
   "outputs": [],
   "source": []
  },
  {
   "cell_type": "code",
   "execution_count": null,
   "metadata": {},
   "outputs": [],
   "source": [
    "a = np.array([[1,2,3,4,5,6],[11,12,13,14,15,16]]).T"
   ]
  },
  {
   "cell_type": "code",
   "execution_count": null,
   "metadata": {},
   "outputs": [],
   "source": [
    "a[:,0]"
   ]
  },
  {
   "cell_type": "code",
   "execution_count": null,
   "metadata": {},
   "outputs": [],
   "source": [
    "#f = lambda x : np.sin(x)\n",
    "x = np.linspace(0,10)"
   ]
  },
  {
   "cell_type": "code",
   "execution_count": null,
   "metadata": {},
   "outputs": [],
   "source": [
    "plt.plot(x,np.arctan(2.6/(np.array(list(map(ff,x)))+1/2)))"
   ]
  },
  {
   "cell_type": "code",
   "execution_count": null,
   "metadata": {},
   "outputs": [],
   "source": []
  },
  {
   "cell_type": "code",
   "execution_count": null,
   "metadata": {},
   "outputs": [],
   "source": []
  },
  {
   "cell_type": "code",
   "execution_count": null,
   "metadata": {},
   "outputs": [],
   "source": []
  },
  {
   "cell_type": "code",
   "execution_count": null,
   "metadata": {},
   "outputs": [],
   "source": []
  },
  {
   "cell_type": "code",
   "execution_count": null,
   "metadata": {},
   "outputs": [],
   "source": []
  }
 ],
 "metadata": {
  "kernelspec": {
   "display_name": "Python 3",
   "language": "python",
   "name": "python3"
  },
  "language_info": {
   "codemirror_mode": {
    "name": "ipython",
    "version": 3
   },
   "file_extension": ".py",
   "mimetype": "text/x-python",
   "name": "python",
   "nbconvert_exporter": "python",
   "pygments_lexer": "ipython3",
   "version": "3.7.9"
  }
 },
 "nbformat": 4,
 "nbformat_minor": 4
}
